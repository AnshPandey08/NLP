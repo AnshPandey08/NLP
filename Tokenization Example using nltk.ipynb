{
 "cells": [
  {
   "cell_type": "code",
   "execution_count": 5,
   "id": "f174a422",
   "metadata": {},
   "outputs": [
    {
     "name": "stdout",
     "output_type": "stream",
     "text": [
      "Defaulting to user installation because normal site-packages is not writeable\n",
      "Requirement already satisfied: nltk in c:\\users\\91811\\appdata\\roaming\\python\\python39\\site-packages (3.8.1)\n",
      "Requirement already satisfied: click in c:\\users\\91811\\appdata\\roaming\\python\\python39\\site-packages (from nltk) (8.1.1)\n",
      "Requirement already satisfied: joblib in c:\\users\\91811\\appdata\\roaming\\python\\python39\\site-packages (from nltk) (1.1.0)\n",
      "Requirement already satisfied: regex>=2021.8.3 in c:\\users\\91811\\appdata\\roaming\\python\\python39\\site-packages (from nltk) (2023.8.8)\n",
      "Requirement already satisfied: tqdm in c:\\users\\91811\\appdata\\roaming\\python\\python39\\site-packages (from nltk) (4.62.3)\n",
      "Requirement already satisfied: colorama in c:\\users\\91811\\appdata\\roaming\\python\\python39\\site-packages (from click->nltk) (0.4.4)\n"
     ]
    }
   ],
   "source": [
    "!pip install nltk\n"
   ]
  },
  {
   "cell_type": "code",
   "execution_count": 6,
   "id": "c153511c",
   "metadata": {},
   "outputs": [],
   "source": [
    "corpus = \"\"\" Hello Welcome, to Ansh Pandey's Learning Concepts.\n",
    "Please do check out the github repositories and give the stars and follow me for sure.\n",
    "\"\"\""
   ]
  },
  {
   "cell_type": "code",
   "execution_count": 8,
   "id": "79d8a97b",
   "metadata": {},
   "outputs": [
    {
     "name": "stdout",
     "output_type": "stream",
     "text": [
      " Hello Welcome, to Ansh Pandey's Learning Concepts.\n",
      "Please do check out the github repositories and give the stars and follow me for sure.\n",
      "\n"
     ]
    }
   ],
   "source": [
    "print(corpus)"
   ]
  },
  {
   "cell_type": "code",
   "execution_count": 9,
   "id": "96a52c93",
   "metadata": {},
   "outputs": [],
   "source": [
    "## Tokenization\n",
    "## Sentence --> paragraphs\n",
    "from nltk.tokenize import sent_tokenize"
   ]
  },
  {
   "cell_type": "code",
   "execution_count": 10,
   "id": "5315ac92",
   "metadata": {},
   "outputs": [
    {
     "data": {
      "text/plain": [
       "[\" Hello Welcome, to Ansh Pandey's Learning Concepts.\",\n",
       " 'Please do check out the github repositories and give the stars and follow me for sure.']"
      ]
     },
     "execution_count": 10,
     "metadata": {},
     "output_type": "execute_result"
    }
   ],
   "source": [
    "sent_tokenize(corpus)"
   ]
  },
  {
   "cell_type": "code",
   "execution_count": 11,
   "id": "9602746c",
   "metadata": {},
   "outputs": [],
   "source": [
    "documents = sent_tokenize(corpus)"
   ]
  },
  {
   "cell_type": "code",
   "execution_count": 12,
   "id": "321e043f",
   "metadata": {},
   "outputs": [
    {
     "data": {
      "text/plain": [
       "[\" Hello Welcome, to Ansh Pandey's Learning Concepts.\",\n",
       " 'Please do check out the github repositories and give the stars and follow me for sure.']"
      ]
     },
     "execution_count": 12,
     "metadata": {},
     "output_type": "execute_result"
    }
   ],
   "source": [
    "documents"
   ]
  },
  {
   "cell_type": "code",
   "execution_count": 13,
   "id": "e618ad6e",
   "metadata": {},
   "outputs": [
    {
     "data": {
      "text/plain": [
       "list"
      ]
     },
     "execution_count": 13,
     "metadata": {},
     "output_type": "execute_result"
    }
   ],
   "source": [
    "type(documents)"
   ]
  },
  {
   "cell_type": "code",
   "execution_count": 15,
   "id": "30c249c5",
   "metadata": {},
   "outputs": [
    {
     "name": "stdout",
     "output_type": "stream",
     "text": [
      " Hello Welcome, to Ansh Pandey's Learning Concepts.\n",
      "Please do check out the github repositories and give the stars and follow me for sure.\n"
     ]
    }
   ],
   "source": [
    "for sentence in documents:\n",
    "    print(sentence)\n",
    "    "
   ]
  },
  {
   "cell_type": "code",
   "execution_count": 16,
   "id": "b5b3dfb1",
   "metadata": {},
   "outputs": [],
   "source": [
    "## Tokenization\n",
    "## Paragraph --> Words\n",
    "## Sentences --> Words\n",
    "\n",
    "from nltk.tokenize import word_tokenize"
   ]
  },
  {
   "cell_type": "code",
   "execution_count": 17,
   "id": "e67c17e9",
   "metadata": {},
   "outputs": [
    {
     "data": {
      "text/plain": [
       "['Hello',\n",
       " 'Welcome',\n",
       " ',',\n",
       " 'to',\n",
       " 'Ansh',\n",
       " 'Pandey',\n",
       " \"'s\",\n",
       " 'Learning',\n",
       " 'Concepts',\n",
       " '.',\n",
       " 'Please',\n",
       " 'do',\n",
       " 'check',\n",
       " 'out',\n",
       " 'the',\n",
       " 'github',\n",
       " 'repositories',\n",
       " 'and',\n",
       " 'give',\n",
       " 'the',\n",
       " 'stars',\n",
       " 'and',\n",
       " 'follow',\n",
       " 'me',\n",
       " 'for',\n",
       " 'sure',\n",
       " '.']"
      ]
     },
     "execution_count": 17,
     "metadata": {},
     "output_type": "execute_result"
    }
   ],
   "source": [
    "word_tokenize(corpus)"
   ]
  },
  {
   "cell_type": "code",
   "execution_count": 18,
   "id": "e2831c7a",
   "metadata": {},
   "outputs": [
    {
     "name": "stdout",
     "output_type": "stream",
     "text": [
      "['Hello', 'Welcome', ',', 'to', 'Ansh', 'Pandey', \"'s\", 'Learning', 'Concepts', '.']\n",
      "['Please', 'do', 'check', 'out', 'the', 'github', 'repositories', 'and', 'give', 'the', 'stars', 'and', 'follow', 'me', 'for', 'sure', '.']\n"
     ]
    }
   ],
   "source": [
    "for sentence in documents:\n",
    "    print(word_tokenize(sentence))"
   ]
  },
  {
   "cell_type": "code",
   "execution_count": 19,
   "id": "4536913a",
   "metadata": {},
   "outputs": [],
   "source": [
    "from nltk.tokenize import wordpunct_tokenize"
   ]
  },
  {
   "cell_type": "code",
   "execution_count": 20,
   "id": "4c67b3fa",
   "metadata": {},
   "outputs": [
    {
     "data": {
      "text/plain": [
       "['Hello',\n",
       " 'Welcome',\n",
       " ',',\n",
       " 'to',\n",
       " 'Ansh',\n",
       " 'Pandey',\n",
       " \"'\",\n",
       " 's',\n",
       " 'Learning',\n",
       " 'Concepts',\n",
       " '.',\n",
       " 'Please',\n",
       " 'do',\n",
       " 'check',\n",
       " 'out',\n",
       " 'the',\n",
       " 'github',\n",
       " 'repositories',\n",
       " 'and',\n",
       " 'give',\n",
       " 'the',\n",
       " 'stars',\n",
       " 'and',\n",
       " 'follow',\n",
       " 'me',\n",
       " 'for',\n",
       " 'sure',\n",
       " '.']"
      ]
     },
     "execution_count": 20,
     "metadata": {},
     "output_type": "execute_result"
    }
   ],
   "source": [
    "wordpunct_tokenize(corpus)"
   ]
  },
  {
   "cell_type": "code",
   "execution_count": 21,
   "id": "daa0a9fb",
   "metadata": {},
   "outputs": [],
   "source": [
    "from nltk.tokenize import TreebankWordTokenizer"
   ]
  },
  {
   "cell_type": "code",
   "execution_count": 23,
   "id": "2016a33b",
   "metadata": {},
   "outputs": [],
   "source": [
    "tokenizer = TreebankWordTokenizer()"
   ]
  },
  {
   "cell_type": "code",
   "execution_count": 24,
   "id": "8924edf4",
   "metadata": {},
   "outputs": [
    {
     "data": {
      "text/plain": [
       "['Hello',\n",
       " 'Welcome',\n",
       " ',',\n",
       " 'to',\n",
       " 'Ansh',\n",
       " 'Pandey',\n",
       " \"'s\",\n",
       " 'Learning',\n",
       " 'Concepts.',\n",
       " 'Please',\n",
       " 'do',\n",
       " 'check',\n",
       " 'out',\n",
       " 'the',\n",
       " 'github',\n",
       " 'repositories',\n",
       " 'and',\n",
       " 'give',\n",
       " 'the',\n",
       " 'stars',\n",
       " 'and',\n",
       " 'follow',\n",
       " 'me',\n",
       " 'for',\n",
       " 'sure',\n",
       " '.']"
      ]
     },
     "execution_count": 24,
     "metadata": {},
     "output_type": "execute_result"
    }
   ],
   "source": [
    "tokenizer.tokenize(corpus)"
   ]
  },
  {
   "cell_type": "code",
   "execution_count": null,
   "id": "7eb56556",
   "metadata": {},
   "outputs": [],
   "source": []
  }
 ],
 "metadata": {
  "kernelspec": {
   "display_name": "Python 3 (ipykernel)",
   "language": "python",
   "name": "python3"
  },
  "language_info": {
   "codemirror_mode": {
    "name": "ipython",
    "version": 3
   },
   "file_extension": ".py",
   "mimetype": "text/x-python",
   "name": "python",
   "nbconvert_exporter": "python",
   "pygments_lexer": "ipython3",
   "version": "3.11.4"
  }
 },
 "nbformat": 4,
 "nbformat_minor": 5
}
